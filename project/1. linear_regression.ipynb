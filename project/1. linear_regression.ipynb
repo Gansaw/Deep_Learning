{
  "cells": [
    {
      "cell_type": "markdown",
      "metadata": {
        "id": "cN3cKFwWjIRi"
      },
      "source": [
        "# **Deap Learning 1 : Linear Regression**\n",
        "\n",
        "+ date : 2023.10.06.(금) <br>\n",
        "+ author : 최호진 <br>\n",
        "+ project : 개인 프로젝트<br>\n",
        "+ github : https://github.com/Gansaw <br>\n",
        "+ tistory : https://gansaw12.tistory.com <br>\n",
        "+ email : gansaw12@gmail.com <br> <br>\n",
        "\n",
        "---\n"
      ]
    },
    {
      "cell_type": "markdown",
      "metadata": {
        "id": "A9oqGSTpjjKT"
      },
      "source": [
        "# 1. 목표 #\n",
        "\n",
        "a. 선형회귀분석에 필요한 기본 library를 import한다.\n",
        "\n",
        "        tensorflow\n",
        "        numpy\n",
        "        matplotlib  \n",
        "b. Linear Regression(선형회귀분석)에 필요한 작업을 수행한다.\n",
        "\n",
        "c. 단일선형회귀분석, 다중선형회귀분석, 로지스틱회귀분석"
      ]
    },
    {
      "cell_type": "markdown",
      "metadata": {
        "id": "iyPQYShxjk5Y"
      },
      "source": [
        "a. 선형회귀분석에 필요한 기본 library를 import한다.\n",
        "\n",
        "    tensorflow\n",
        "    numpy\n",
        "    matplotlib  "
      ]
    },
    {
      "cell_type": "code",
      "execution_count": 1,
      "metadata": {
        "id": "l9UGy0K0jjk6"
      },
      "outputs": [],
      "source": [
        "import os\n",
        "import tensorflow as tf\n",
        "import numpy as np\n",
        "import matplotlib.pyplot as plt"
      ]
    },
    {
      "cell_type": "markdown",
      "metadata": {
        "id": "OMfycV3rkuz2"
      },
      "source": [
        "# 2. 단일선형회귀분석 #\n",
        "\n",
        "  + Simple Linear Regression을 수행한다.\n",
        "  + numpy를 이용하여 데이터를 로드한다.\n",
        "  + x,y 좌표를 읽어서 배열로 저장하고 x배열, y배열로 따로 저장한다.\n",
        "  ㅁ"
      ]
    },
    {
      "cell_type": "code",
      "execution_count": 2,
      "metadata": {
        "id": "_DiZkqSXldG1"
      },
      "outputs": [
        {
          "name": "stdout",
          "output_type": "stream",
          "text": [
            "[[50.496375]\n",
            " [69.017336]\n",
            " [ 6.504676]\n",
            " [47.202416]\n",
            " [40.42739 ]\n",
            " [15.258608]\n",
            " [32.444642]\n",
            " [51.332003]\n",
            " [30.384774]\n",
            " [11.333958]\n",
            " [14.756302]\n",
            " [67.13818 ]\n",
            " [62.027474]\n",
            " [30.262427]\n",
            " [24.907328]\n",
            " [49.818682]\n",
            " [31.089285]\n",
            " [37.437399]\n",
            " [45.713274]\n",
            " [20.135743]\n",
            " [35.496204]\n",
            " [35.217918]\n",
            " [-2.462339]\n",
            " [15.504408]\n",
            " [ 8.540072]\n",
            " [62.464219]\n",
            " [29.169664]\n",
            " [37.718168]\n",
            " [14.635353]\n",
            " [ 9.71068 ]\n",
            " [55.952296]\n",
            " [40.06951 ]\n",
            " [68.572343]\n",
            " [20.406405]\n",
            " [24.264395]\n",
            " [29.022853]\n",
            " [38.145868]\n",
            " [37.077037]\n",
            " [66.600359]\n",
            " [32.949568]\n",
            " [31.220697]\n",
            " [56.978772]\n",
            " [54.274524]\n",
            " [63.37192 ]\n",
            " [15.688089]\n",
            " [54.948229]\n",
            " [29.672139]\n",
            " [57.671203]\n",
            " [25.526581]\n",
            " [34.821091]\n",
            " [ 3.690326]\n",
            " [10.659872]\n",
            " [16.703429]\n",
            " [31.735639]\n",
            " [14.917495]\n",
            " [42.721395]\n",
            " [27.291772]\n",
            " [14.485518]\n",
            " [21.443083]\n",
            " [ 5.965769]\n",
            " [33.247386]\n",
            " [63.20145 ]\n",
            " [46.459512]\n",
            " [16.287332]\n",
            " [19.58972 ]\n",
            " [11.606064]\n",
            " [49.159971]\n",
            " [54.300311]\n",
            " [10.494688]\n",
            " [64.386625]\n",
            " [57.418799]\n",
            " [20.407553]\n",
            " [37.676875]\n",
            " [66.887593]\n",
            " [67.211215]\n",
            " [53.953845]\n",
            " [58.742402]\n",
            " [27.489283]\n",
            " [52.332898]\n",
            " [49.766573]\n",
            " [21.009881]\n",
            " [26.709189]\n",
            " [18.990932]\n",
            " [61.695823]\n",
            " [-1.611522]\n",
            " [-0.425445]\n",
            " [31.036336]\n",
            " [ 8.847062]\n",
            " [42.408609]\n",
            " [54.604421]\n",
            " [51.321778]\n",
            " [21.424367]\n",
            " [53.946823]\n",
            " [28.078049]\n",
            " [65.410065]\n",
            " [14.409394]\n",
            " [14.189825]\n",
            " [20.200516]\n",
            " [14.223915]\n",
            " [21.488734]]\n",
            "\n",
            "[7.312312 9.94901  0.402668 7.372892 5.413481 1.689084 4.89831  7.443845\n",
            " 4.409411 2.317807 2.439615 9.791725 9.515288 4.384508 3.238266 6.639022\n",
            " 4.104561 4.86235  6.301314 3.134608 5.385869 4.491739 0.328581 1.957047\n",
            " 0.986557 8.944165 4.514209 5.217733 1.504053 1.362839 7.431248 5.040947\n",
            " 9.664205 2.665425 4.173132 3.747696 5.721421 4.717864 9.692133 5.40078\n",
            " 3.920622 7.873336 7.230729 9.084045 1.812122 7.584506 3.722426 7.848726\n",
            " 3.111014 4.832707 1.141458 1.464306 2.743704 5.147993 2.669471 6.178294\n",
            " 4.260877 2.544589 3.22081  1.431867 4.574652 9.718899 6.699085 2.892028\n",
            " 2.772967 1.741008 7.176792 8.207979 0.834052 8.649873 8.726796 3.583534\n",
            " 4.827961 8.941677 9.083486 7.476288 8.192582 3.813982 7.323201 7.053972\n",
            " 3.478218 3.679299 2.946478 8.321406 0.274487 0.157369 4.785926 0.655377\n",
            " 5.746323 7.247305 7.5253   3.601442 7.233337 4.408537 8.773976 2.704944\n",
            " 1.684163 3.243969 2.663616 3.397118]\n"
          ]
        }
      ],
      "source": [
        "# 데이터 로드하기\n",
        "sr_data = \"./data/simple_regression.txt\"\n",
        "sr = np.loadtxt(sr_data)\n",
        "sr_x = sr[:, 0].reshape(-1, 1)\n",
        "sr_y = sr[:, 1]\n",
        "\n",
        "print(sr_x)\n",
        "print()\n",
        "print(sr_y)"
      ]
    },
    {
      "cell_type": "code",
      "execution_count": 3,
      "metadata": {},
      "outputs": [],
      "source": [
        "# 단일선형회귀모델 정의\n",
        "class LinearRegressionModel(tf.keras.Model):\n",
        "    def __init__(self):\n",
        "        super(LinearRegressionModel, self).__init__()\n",
        "        self.dense = tf.keras.layers.Dense(units=1, input_shape=(1,))\n",
        "\n",
        "    def call(self, inputs):\n",
        "        return self.dense(inputs)"
      ]
    },
    {
      "cell_type": "code",
      "execution_count": 4,
      "metadata": {},
      "outputs": [
        {
          "data": {
            "text/plain": [
              "<keras.src.callbacks.History at 0x27543137eb0>"
            ]
          },
          "execution_count": 4,
          "metadata": {},
          "output_type": "execute_result"
        }
      ],
      "source": [
        "# 모델 정의\n",
        "sr_model = LinearRegressionModel()\n",
        "\n",
        "# 모델 컴파일\n",
        "sr_model.compile(optimizer='adam', loss='mean_squared_error')\n",
        "\n",
        "# 모델 학습\n",
        "sr_model.fit(sr_x, sr_y, epochs=1000, verbose=0)"
      ]
    },
    {
      "cell_type": "code",
      "execution_count": 5,
      "metadata": {},
      "outputs": [
        {
          "name": "stdout",
          "output_type": "stream",
          "text": [
            "Coefficients: 0.1527203\n",
            "Intercept: -0.50732243\n"
          ]
        }
      ],
      "source": [
        "# 가중치, 절편\n",
        "weights, biases = sr_model.layers[0].get_weights()\n",
        "coefficients = weights[0][0]\n",
        "intercept = biases[0]\n",
        "\n",
        "print(\"Coefficients:\", coefficients)\n",
        "print(\"Intercept:\", intercept)\n"
      ]
    },
    {
      "cell_type": "code",
      "execution_count": 6,
      "metadata": {},
      "outputs": [
        {
          "name": "stdout",
          "output_type": "stream",
          "text": [
            "4/4 [==============================] - 0s 1000us/step\n"
          ]
        },
        {
          "data": {
            "image/png": "[encoded data removed]",
            "text/plain": [
              "<Figure size 640x480 with 1 Axes>"
            ]
          },
          "metadata": {},
          "output_type": "display_data"
        }
      ],
      "source": [
        "# Scatter Plot\n",
        "plt.scatter(sr_x, sr_y, color='blue', label='Data points')\n",
        "\n",
        "# Line Graph\n",
        "plt.plot(sr_x, sr_model.predict(sr_x), color='red', label='Regression line')\n",
        "\n",
        "# 그래프 그리기\n",
        "plt.xlabel('Feature')\n",
        "plt.ylabel('Target')\n",
        "plt.legend()\n",
        "plt.show()"
      ]
    },
    {
      "cell_type": "markdown",
      "metadata": {},
      "source": [
        "# 3. 다중선형회귀분석 #\n",
        "\n",
        "  + Multiple Linear Regression을 수행한다.\n",
        "  + numpy를 이용하여 데이터를 로드한다.\n",
        "  + x,y 좌표를 읽어서 배열로 저장하고 x배열, y배열로 따로 저장한다.\n",
        "  + Tensorflow를 이용하여 MSE(최소제곱오차)를 계산한다."
      ]
    },
    {
      "cell_type": "code",
      "execution_count": 7,
      "metadata": {},
      "outputs": [
        {
          "name": "stdout",
          "output_type": "stream",
          "text": [
            "[[1. 0.]\n",
            " [0. 2.]\n",
            " [3. 0.]\n",
            " [0. 4.]\n",
            " [5. 0.]]\n",
            "\n",
            "[1. 2. 3. 4. 5.]\n"
          ]
        }
      ],
      "source": [
        "# 데이터 로드하기\n",
        "mr_data = \"./data/multiple_regression.txt\"\n",
        "mr = np.loadtxt(mr_data)\n",
        "mr_x = mr[:, :-1]\n",
        "mr_y = mr[:, -1]\n",
        "\n",
        "print(mr_x)\n",
        "print()\n",
        "print(mr_y)"
      ]
    },
    {
      "cell_type": "code",
      "execution_count": 8,
      "metadata": {},
      "outputs": [],
      "source": [
        "# 다중선형회귀모델 정의\n",
        "class MultipleLinearRegressionModel(tf.keras.Model):\n",
        "    def __init__(self, num_features):\n",
        "        super(MultipleLinearRegressionModel, self).__init__()\n",
        "        self.dense = tf.keras.layers.Dense(units=1, input_shape=(num_features,))\n",
        "\n",
        "    def call(self, inputs):\n",
        "        return self.dense(inputs)"
      ]
    },
    {
      "cell_type": "code",
      "execution_count": 9,
      "metadata": {},
      "outputs": [
        {
          "data": {
            "text/plain": [
              "<keras.src.callbacks.History at 0x275446a81f0>"
            ]
          },
          "execution_count": 9,
          "metadata": {},
          "output_type": "execute_result"
        }
      ],
      "source": [
        "# 모델 정의\n",
        "num_features = mr_x.shape[1]\n",
        "mr_model = MultipleLinearRegressionModel(num_features)\n",
        "\n",
        "# 모델 컴파일\n",
        "mr_model.compile(optimizer='adam', loss='mean_squared_error')\n",
        "\n",
        "# 모델 학습\n",
        "mr_model.fit(mr_x, mr_y, epochs=1000, verbose=0)"
      ]
    },
    {
      "cell_type": "code",
      "execution_count": 10,
      "metadata": {},
      "outputs": [
        {
          "name": "stdout",
          "output_type": "stream",
          "text": [
            "Coefficients: [0.83311373 0.6149211 ]\n",
            "Intercept: 0.6683534\n"
          ]
        }
      ],
      "source": [
        "# 가중치, 절편\n",
        "weights, biases = mr_model.layers[0].get_weights()\n",
        "coefficients = weights.flatten()\n",
        "intercept = biases[0]\n",
        "\n",
        "print(\"Coefficients:\", coefficients)\n",
        "print(\"Intercept:\", intercept)"
      ]
    },
    {
      "cell_type": "code",
      "execution_count": 11,
      "metadata": {},
      "outputs": [
        {
          "name": "stdout",
          "output_type": "stream",
          "text": [
            "4/4 [==============================] - 0s 1ms/step\n",
            "4/4 [==============================] - 0s 1ms/step\n"
          ]
        },
        {
          "data": {
            "image/png": "[encoded data removed]",
            "text/plain": [
              "<Figure size 640x480 with 1 Axes>"
            ]
          },
          "metadata": {},
          "output_type": "display_data"
        }
      ],
      "source": [
        "# Scatter Plot\n",
        "plt.scatter(mr_x[:, 0], mr_y, color='blue', label='Feature 1')\n",
        "plt.scatter(mr_x[:, 1], mr_y, color='green', label='Feature 2')\n",
        "\n",
        "# Feature별 Line Graph\n",
        "for i in range(num_features):\n",
        "    x_line = np.linspace(np.min(mr_x[:, i]), np.max(mr_x[:, i]), 100)\n",
        "    x_line_expanded = np.zeros((100, num_features))\n",
        "    x_line_expanded[:, i] = x_line\n",
        "    y_line = mr_model.predict(x_line_expanded)[:, 0]\n",
        "    plt.plot(x_line, y_line, label=f'Regression line {i+1}')\n",
        "\n",
        "# Plot 그리기\n",
        "plt.xlabel('Feature')\n",
        "plt.ylabel('Target')\n",
        "plt.legend()\n",
        "plt.show()"
      ]
    },
    {
      "cell_type": "markdown",
      "metadata": {},
      "source": [
        "# 4. 로지스틱회귀분석 #\n",
        "\n",
        "  + Logistic Regression을 수행한다.\n",
        "  + numpy를 이용하여 데이터를 로드한다.\n",
        "  + x,y 좌표를 읽어서 배열로 저장하고 x배열, y배열로 따로 저장한다.\n",
        "  + Tensorflow를 이용하여 MSE(최소제곱오차)를 계산한다."
      ]
    },
    {
      "cell_type": "code",
      "execution_count": 12,
      "metadata": {},
      "outputs": [
        {
          "name": "stdout",
          "output_type": "stream",
          "text": [
            "[[1. 2. 1.]\n",
            " [1. 3. 2.]\n",
            " [1. 3. 4.]\n",
            " [1. 5. 5.]\n",
            " [1. 7. 5.]\n",
            " [1. 2. 5.]]\n",
            "\n",
            "[0. 0. 0. 1. 1. 1.]\n"
          ]
        }
      ],
      "source": [
        "# 데이터 로드하기\n",
        "lr_data = \"./data/logistic_regression.txt\"\n",
        "lr = np.loadtxt(lr_data)\n",
        "lr_x = lr[:, :-1]\n",
        "lr_y = lr[:, -1]\n",
        "\n",
        "print(lr_x)\n",
        "print()\n",
        "print(lr_y)"
      ]
    },
    {
      "cell_type": "code",
      "execution_count": 13,
      "metadata": {},
      "outputs": [],
      "source": [
        "# 로지스틱회귀모델 정의\n",
        "class LogisticRegressionModel(tf.keras.Model):\n",
        "    def __init__(self):\n",
        "        super(LogisticRegressionModel, self).__init__()\n",
        "        self.dense = tf.keras.layers.Dense(units=1, activation='sigmoid')\n",
        "\n",
        "    def call(self, inputs):\n",
        "        return self.dense(inputs)\n"
      ]
    },
    {
      "cell_type": "code",
      "execution_count": 14,
      "metadata": {},
      "outputs": [
        {
          "data": {
            "text/plain": [
              "<keras.src.callbacks.History at 0x27547880250>"
            ]
          },
          "execution_count": 14,
          "metadata": {},
          "output_type": "execute_result"
        }
      ],
      "source": [
        "# 모델 정의\n",
        "num_features = lr_x.shape[1]\n",
        "model = LogisticRegressionModel()\n",
        "\n",
        "# 모델 컴파일\n",
        "model.compile(optimizer='adam', loss='binary_crossentropy', metrics=['accuracy'])\n",
        "\n",
        "# 모델 학습\n",
        "model.fit(lr_x, lr_y, epochs=1000, verbose=0)"
      ]
    },
    {
      "cell_type": "code",
      "execution_count": 15,
      "metadata": {},
      "outputs": [
        {
          "name": "stdout",
          "output_type": "stream",
          "text": [
            "313/313 [==============================] - 0s 683us/step\n"
          ]
        },
        {
          "data": {
            "image/png": "[encoded data removed]",
            "text/plain": [
              "<Figure size 640x480 with 1 Axes>"
            ]
          },
          "metadata": {},
          "output_type": "display_data"
        }
      ],
      "source": [
        "# meshgrid 생성\n",
        "xx, yy = np.meshgrid(np.linspace(lr_x[:, 1].min(), lr_x[:, 1].max(), 100),\n",
        "                     np.linspace(lr_x[:, 2].min(), lr_x[:, 2].max(), 100))\n",
        "Z = model.predict(np.c_[np.ones_like(xx.ravel()), xx.ravel(), yy.ravel()])\n",
        "\n",
        "# Decision Boundary Plot\n",
        "Z = Z.reshape(xx.shape)\n",
        "plt.contourf(xx, yy, Z, levels=[0, 0.5, 1], cmap='viridis', alpha=0.3)\n",
        "plt.scatter(lr_x[:, 1], lr_x[:, 2], c=lr_y, cmap='viridis')\n",
        "plt.xlabel('Feature 1')\n",
        "plt.ylabel('Feature 2')\n",
        "plt.show()"
      ]
    }
  ],
  "metadata": {
    "colab": {
      "provenance": []
    },
    "kernelspec": {
      "display_name": "Python 3",
      "name": "python3"
    },
    "language_info": {
      "codemirror_mode": {
        "name": "ipython",
        "version": 3
      },
      "file_extension": ".py",
      "mimetype": "text/x-python",
      "name": "python",
      "nbconvert_exporter": "python",
      "pygments_lexer": "ipython3",
      "version": "3.10.9"
    }
  },
  "nbformat": 4,
  "nbformat_minor": 0
}
